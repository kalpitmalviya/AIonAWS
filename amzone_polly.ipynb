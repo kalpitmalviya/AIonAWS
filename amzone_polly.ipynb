{
 "cells": [
  {
   "cell_type": "code",
   "execution_count": 79,
   "metadata": {},
   "outputs": [],
   "source": [
    "# AWS Polly Service\n",
    "import boto3"
   ]
  },
  {
   "cell_type": "code",
   "execution_count": 80,
   "metadata": {},
   "outputs": [],
   "source": [
    "po = boto3.client('polly')"
   ]
  },
  {
   "cell_type": "code",
   "execution_count": 81,
   "metadata": {},
   "outputs": [],
   "source": [
    "# text in audio format: sythesize \n",
    "response = po.synthesize_speech(Text='Hello Friends , This is amazone Polly testing', OutputFormat='mp3', VoiceId='Joanna' )"
   ]
  },
  {
   "cell_type": "code",
   "execution_count": 82,
   "metadata": {},
   "outputs": [],
   "source": [
    "#response"
   ]
  },
  {
   "cell_type": "code",
   "execution_count": 83,
   "metadata": {},
   "outputs": [],
   "source": [
    "#response['AudioStream'].read()"
   ]
  },
  {
   "cell_type": "code",
   "execution_count": 84,
   "metadata": {},
   "outputs": [],
   "source": [
    "# create binary audio file\n",
    "file = open('myaudio.mp3', 'wb')"
   ]
  },
  {
   "cell_type": "code",
   "execution_count": 85,
   "metadata": {},
   "outputs": [
    {
     "data": {
      "text/plain": [
       "16972"
      ]
     },
     "execution_count": 85,
     "metadata": {},
     "output_type": "execute_result"
    }
   ],
   "source": [
    "file.write(response['AudioStream'].read())"
   ]
  },
  {
   "cell_type": "code",
   "execution_count": 86,
   "metadata": {},
   "outputs": [],
   "source": [
    "file.close()"
   ]
  },
  {
   "cell_type": "code",
   "execution_count": 87,
   "metadata": {},
   "outputs": [],
   "source": [
    "import IPython"
   ]
  },
  {
   "cell_type": "code",
   "execution_count": 88,
   "metadata": {},
   "outputs": [
    {
     "data": {
      "text/html": [
       "\n",
       "                <audio  controls=\"controls\" >\n",
       "                    <source src=\"data:audio/mpeg;base64,SUQzBAAAAAAAI1RTU0UAAAAPAAADTGF2ZjU4LjQ1LjEwMAAAAAAAAAAAAAAA//NgxAAd2+XgAUYYAQAQyyZMndxEREREXd3d/9/+voHAwMDAwN3dERP4ju79d3AEL4iF/u5+7u5/EA3NETrogQAAABER3+IXoiIiJughERERHd3d3/67v//xE6iIiIhaIiJ//6IiIBgbu7ucd3d3dz///////93Pd3d3d99AghHYAAB+ChJIxGI5FI5FIhEIZEIuPFEVcRApNF+S//NixBcjUr6+X4pYAjuGf5PKKD+IIfoqwmPJ44kTK84ThgBODgpD6HsF3vfFBYcmBINQMSaQUV1X6YIA9kkEsNx8cT63yl//+oTGTwxg9uZXKdyf////wTzc6/ZJudZdKXFf0x/Ex//1//5y2UsUHUWPUIFsU4///jC58emIDkP394Qq7iZQAzfxGJMxVSNiw5kB4BgbbLvi0Y5vdf/zYsQZJpuCphXZMAA5YpLEN5WZzKXUgPAiT+Q22KPY9igI0VCZYOCjFP9ZJs88u2lZf8WUQR6zXf7Btb618///+X9nxMDTiIIFAsMadv//aHvtd+sPj/HnKJJliE0VkUjksz/x+xb/jszkQolv////////qe+3vdyrQztd//ur/t+YtmEVNDLhfWo0wH31AchlCBH6/85QWmDIUib/82LEDiBrLq40ywToTNZPrRnUpxaIWcuW4aLBgQTBkjiLzKs1fOg8XmOJh0W9Kdk+s7YsWYfLBzRYZ/RWqxnUxqiGlYKORHdjlK//J07GrKIc10/0ZTngwRAcjSXznYokoVf++k181f//zkPlQztEPHtLFDd36DyRK8QPiNzBBLIAwhM5Y1n1MH0MFiHXiOcGFzkyQFEQjLESwLoX//NgxBweukqhZMvKlNLFejBHT7vhNmafLYc9PZeL16th/NurZbANlZf+qZi1IVCsKnKaVnq3+5Tv6sNoUctWOxHRiN2QVEqsPDrfNOokxUc/3KZ94gETvSCvPhMuIWmGMJJkPUtJa9QNCukljIADVLscZ+ajuCt95L8gEEbQSTtcXYnIMh0k4Gi6Tik3vtxt91qRjnHddyj+2tKU//NixDAmi8aMHNJFOUsqQ861lCpExPISAldMySvvUo/0ulJXH/PV7d/aa2//6/8Kq0opxp/hPq4tKLK08bUPG60QoD/RFD6MaNtxNpRZj//+5Jf////6OEdyIv/WTLcMY8WEABniRheCRS//9HCuDlZfbpZVq8eqgGRE4zMofoAFClM9CYRhQhhIxvQjzKZP+YAGPQ4InkeGiNc/5//zYsQlInIKkFLTzKy4GPKdcifAdTLlesAJsdavhQIYxHBNIS4KPqmonuw0fvn/cxD9zM7OCEP3b/0+9txvMXDV93sfrfyTW5RX1KAUeTLLKMwS4O4Pvtmv/RSCggiyxxh7lCcQBBld4gdymEbHa2oGpogGG5ARJ46xrEEguFyWNuQXIVdxjRgEDb1L9KSgS2/dyLovnZ/2EWt42Eb/82LEKycsAp2Wyc1ZkvVI/gtmUM9+DFWfzxOJC4oFx9DgzsNyGoWFjZJtAsNeT7Dnv5no+YSTHx4vPYkZQfOZ44a0/5j8id/qf/+p/56CvrBqw8yYLONCL8s0+E8uEuAN1Gwgf///aNFkRCr/fd////50/8u/7iZLWWQQs/rVcZAG299ls3l/tThrJYjYKA/zOWMfAO4NVFivBTzw//NgxB4eS/bK/nlFQfdSAVpJqZDHi3w2C5MvpDDpd2qxErprqC9CeXlb24X1EPzvUvs/Xyv05WWpnbKCCPMHKqGV8UrzG///9GTohGQ1rLrVbsiX05t4NP1alqf/6P2M1ndjMEYcVY2qiACHbVUju5niQcbeMMqYCDRoDI3RRJQNPibnWSreK1hpN1tyqWBLofQgdT63AfFz64/e//NixDMdqf6plsMEsCkyDtMReZ/LobqAiC1L/qVeh2qa9CepmmHTKMLZRAwG4NKDYsaUnX/g0HdkFQk9rlgqVBION5Ux860VPAUObv0UEKjFiAwAMSxOhH6r0BJ4jXA9GoIVdSijWpkcJCdpdBGqUyE5smTG14gnCO3DXQVTTvwWEOibxptzCzXDwtVXfom4kfgKKlKVW6nQxV80qv/zYsRMHwQKnb7LypHv82UIjuXoJC0pA8a9W6/fyMv/fI3/9L7pd1KKqLHNOT///0NxIWMspfb//N+xhpOhlOOya3W+SSi/ip5MhLELP/KhnJSFW+0kT4GIIyFCqnkkU5Zst8Hfpz4yhX34Zq9keMxjWil1Jlb09/7ojuKE3JFe9yYJG3p9tyomL+/gZGvzHE9///6QIUg3FFf/yDT/82LEYB+KltZeSxFCXFhQFZ6SWAOhnT/Vynra1CCihCXNUB80GLS4ecRJqkJ5Sto205JWBUNUklYbxnYraUbK1O4JNjAlIOFuZNWZV1BeUdZqWWxA04SHvalPmluxKXcksDx2Mg2vmAoDBBYEJwSATn5u6JFMSycHG//0T+RHxQ4J3c92UWNQwjQKKGiB4HGkC59T8Olz+Ks+icGo//NgxHEfqp6m/hMGEEKB0XexonHk0Q2k+TE1OHl6hVRNvpD/DgGAWS0GE7SDMj4YnDnntfayzsm04lsvOpfkvlIHAg9G9LcvrK/++XrPcdkhO49CDwG90SHad2elYR1V80as//zXUlBDsdqiOqHfu7KPUrkMT9/2kZSXdTrfX/6MDfQQIsgMxzBBpyiKF3djEicjuLDHYfHVOnh5//NixIEfVBanFDDFbPGirXxgWA3DcyaBoGn10fTHCEIQxhNAuBeGPMNzc9cQRAgwdwhIvoRnAdpKymDJrtoJtm8nIWQM4mhg6dM2hMRsSUik6JYZF5uXv/+jvraupvVurPXuIZJG9P0P1s6CHqZU+/PKFOjCuJFQwtBpYYADL6OdkQUyhg5yauLmWrl6kSZtcxypBgSGoJYdWeBk4//zYsSTIAQOpvB4xPnoY5hIeC1p84mWIYQQcJTmOeDijMEl7luW9L/13LYmseWWGkOQux2I66DTJ+N25fPY519Sym4ybq6OYKzXHGfYytTpl5riTwcRUWnbFljKzuO/Wtzkto/S3kavulZbb/xVN3qCrG3EjCodAPBGB+q6sgigkLAgeLvhYCMpaww1LovSxMKlJiSGDU6B6CxolDL/82LEox7JYq7y5kRc8aAh1qzBmQEz4rHX2RUF3FxaRHtOoiq/7tsDXu1CQNcZQriB6GG4vGMvlE4dQqv+fd0Mwd3qEXCNJnTf///po9FwxnAwTizIGDZQggEJTi2nkv//yw/EC1A8JXe+HibiQIJQwmp4njjgI0ArAD9Tkj/daUg48IrZjgEer8ZnFSNSd2ikwKG8jxXmHjQW1kEG//NgxLckOeqVVt4GfEBRrsrf9xrm5hrbTbNV2FSsmgFpa8G52RGAmRx8KRoVz7OFAiK1ollhlcoO4Ik6QGmJR3xvvmZYQ//zn7X///cmnzIIBawgEPiaO2Ac1ItAbD/v2NSTYIv1O//X/5eMPnQs4z5SKrM5oQ8g8kWRWaFlgwDAVIdxycAToh22+hJUk/GJHGyaN1viax5FOziZ//NixLUloiKxnsMNSAESvllGU9orKaN0WDQvGw1OX8mknFzS63EEvXCh6HB0GUONFHIzs1H3a061qFT7avlG1MFl24UzhGiFl52PJ7udFp+UWbeerjn8NISd9QIgVTogFA8ZgQ4uZPL6fiWQq7ICD5lZ2mPScGmX/J70e0gd4Q/9qdRAgJIeS/5mp3tgdAUB44613hn/aS/nVQBCAv/zYsSuKpKSoVbJU6BA5Z/DGgGrxDYwM5Ft58D8Etm7GeMK5IHalU+F5NqeCQRvo2ToOMF+Qn6s9cgiJxtpfEozkwdaydKZ6f3VFw+XrD8fTcqpCQnEccB/LEd5wBOJ+GGURu9/BKQt88Og8fy2VLFJDi+0uxAu6QcLhkEGtoGhL0Wf9oaAiSgfuFBrKHlCX6GTk70qySRGbtq1WOD/82DEkyKaRrX2ewa8iELCp3wTwS6saT0V1LqhET7AACsmAApehVuPQpNprpzSXNmIKZIkREMalWfHrM+5bViZYY4cFCxSJf4KItEP2Ks7e9G+ZF/tyVG3L4X5ZhsSjkLTX2P1MUr/qS97IXvOEE8m3x8c88aWHpQEWeQYAYFlO28lbil2r/V8ERqbat8tiE88v9klnGgh2z8Ny2n/82LElx06VsHuwYaYRZxLkWe0WpSeps1RebVGEB6VTN40aahu5mMVtDKr7lEGCKcdTVf+4krYI6I9ErpV01Gevq2Zau4gro13/T/lK612//9qP+y6sv7V7U//tnNdWeEa8yrAGESC9HcoWSGgcujRVgReqw2z6ngNor22wHOiI40uPghTsvye1Up+G8mswks6Cp6uTEmo+DN0AjOh//NixLId2/a+NsGE8L16GKcxSGhFsrHVPzFuxashHbZ0VavCNfXQps40GYzMPQ6Kab/+qBggE63fkEfTnr9eeT1jUk3kwKqKESOAAAkS6uQa75vzEIeMG3EvpfBZMpoUpNjlMO0TYSt4VQhUe90rlU4JTk5b8XfkDl0Mk20k07LfJQ7OkEBOd/t0FKyjFBYGSwyVlhgsgLGLwSFwC//zYsTKHbq+rg7CxJiEqX+WUHSoxCTvRyqgV/8j26hyfPA1+CoKw6oGwERackUAI4Kk+4Ju45omo7mKJwAkRLqwcemPdT/Um5xS4blI2TZtV4znDa4S22EV1lLekk1S8+syRIOm6FCYR0nYr4TAyUUS/RfXLx8y0+LXxyGsHT0FRMgMPYrY50Y6e1GOlDGaZowpRMrVZRpg4xjfck7/82DE4xzxVpX00wR8hTiZhQ7/9f6nRjlchToV//+v/XQsn9fynIrkO5BjKij6zkd0O8aUXGKiAxUGABtBWweI4SYEmxQDGBMEaOAC519GXgE28sa6i1Txxp9F65Wb6hkaAGGL0QNjMkQGjyMrMU096ddmdi0C5J4yBjfPgulR26KtezobHwaIDRIShWNQjXjH/t0m/Ofr1S6dDMD/82LE/iaT/nVE48qdwWHYSCjOScdBZQh+T9JVII1/iJf/X2L7ZIoDYEPES9Cw6GkEER/I/KhwcDTkAbWWGAgzXHgVrQ4JiAOAYpp+OQMBJcVanh7cbVWi0TlSfNiNyOhfZki3shgAUdH//9g+ExQNAyYkk1ZpZJX7rVfC6FHZI6q6Uxpk2k9X7vbbTnVhAjKcgQUYRpyUZ2GP0ZDG//NixPMhcf5w7OMHDDlW6NqrX02d5nOyT/+z/Vvq3Tt27tUxbK711oT5VVhLN8JGHgB0lI5NrtJuKkjzjroAclLGYmaM2vdObbbUaU5FJW1jVWUbdGlZDt/6weQlt8W2+lJ4ikqkVzTzU05UnS9PcicEQbLpXnOO+5ENxCu7FetAkAPY1+ka3co11zFBFZFJWJxOFO+/8/dmqKILov/zYsT9JDvmbLziCxEYl07TYyunlFD2/yMZQxZwgd3KNc6mZbNm7tsDaGoA/y+C5BchNR/3bgdrDtP5KXDTnWu1t4nUlwEYHUctBOpy/LvJCGE4YeJF/HFl0zBjkNyU4QXfxE9JRJCinq0pfu65cbcu3m4D5S+DVB2tonqXuW7oJCiPDEMNcet83Igp+JQ5EOcjjkTkMSyZYe8+9QH/82DE/ENsFrG+ebC+v3jnSXc4btUn4R938pzm3/i9mBd81rEVKGoYOp762ewK4/xq+u9ycEcxmH/17GdbV6vJt9ct0Kf5ajVCKfQwGzbrY53KetVilutLakVtw3LnblUBvNtr8ESmnr2K2vrW7Na5li+7901VwGsQ3KGkNcdRadSpKqqp7zJJXZpXZftdkllk1Xpmwq7hgyhSiU3/82LEfTtcFpA0eLDcVzJUJyK7bSB4fikWwtZb1WpYLXYim4jhX5qzKLVazQ0LcS2cNJeCwAyClqQ5f+JEBEFC+pgcFjR8LxAZy1KBwOHGgrErKzAwCY6z9b8O3Fllp68/IWMN5D0HbfuIAgieDUmiuE/y6VvxhYRYjkuGrYooeJmZiH28cA/ARDBGc3SIH09EO41iLFThc8dD2Nke//NixB8mPBa/HECTeDshlKutvUiah21f5HdgTPGMUI8iiVEJ/rnR53uToZiFWjCGYGcqgZTK5GGNK3nbsEEuyshWRlnohCNL0GOJFwOZSg//8EAt1X/X20chWo2pE7Bcs2SEqhGSQm0II5bRJsA3hdtXEldLhC0AH8EwLlFCKhGIBU8QEIbdv+91uklakCZbMYFTNbctOQkHlf9tVf/zYsQWH0Pa0lxhhL+jOaBwv8qNOHFrW/75/+UnuIml7WtcVB2mIt5U9VuuTMKIf+73VfEGshfWRXXdHsrg6HdihWmz/hGdTEkeVuRTaB3+h86H17f9yEOTqb4UjmOhh2OUsz0M5yizy/k3RVmGY6jhsQoNCaWIdYd5Gz+eUqm7LUNV4JB2oL9W9mvqSrLbSXqtNKLexMlDEakDVNv/82DEKSEL3rMYWMt5MUej8qLMlWhufs2v9aOUYzjdyv6/Vve5SHJXR2IhK9L//1YUx5iHl9iLQPGP//Vegj3/cK5fOXCqzMK/6KYJB4WErKgspaFR+VSsLG/RXEYiURdhI8N0IGaChKoWxOS0nJ/UmthKLQWMcaIqCo12KFT2LbJhpgWo4lRUV/6UoWY4ZapEataAgMurfKFEgIn/82LEMx97jo5QQId15Stt6OUpV5jGeUxuYy2RWUKMgERy3+k0t1Kh25Smson/9TDCjUTAzLV+MzXCgInVf+MOFJmWMzMcONG+ARhmv/+Nx5w07c0Fkk3LAoJK+Na/1ixU2iqkVGA2eimX/k1ibFUOlWvskcNBSJjppdmlag6L/bzCoUzw5CNf4pyhmhIXChRTDNCZP+FCa/5SbZxN//NixEUbK1pQUEBHjCY2q//9JqarGv/+usaN0BJqWqARrDCnVIMKUJYdOjRFgVCFjMRCURIVnW8JC5bh4ux0gRcdXO5npST3I4ZMTElbabI4KrElMjjtZkYcxJxweceiVGeGcMjMiUzdDZL3SRatua1hY2iM5z/VPSkglIz/KQEhZHb6ssKbshwGiVjlL9YVdmvkXDWqyj8Ks2a6fv/zYMRoHBviEABoRhDvpKs/1C1UMVUQVqEivdXO1yffGPK9iDAm3bzL6bU11kmbkayQIIW+sblS+21urVr0niM4po/KxnW/Yoc5YTZnDkM9yoNlMSdpIpFCJyIcX3Njq2Si6SiUboKFSNCdWI8TmkPtXibWwG3xyJftkaZGYM8QLEiI2fUGyXEVr8+UrPhq5TpVQhHsaMxoRFqxZ//zYsSGHHPWEKBoRhfnnoepFTV9kTP5MJ9PI81I1vrQ9Vi7DhmhGFBEaKv2ZEdrw86VqgnMopiVu4cWCICTCa7Ay6LJVRVZSmCFka2XCn/sECoM6A2LpOdFz4Ef2cmiSknYDe8NvyUiYO63quWouWsUKl53L1zWvQTu4uIjlEMoZOZAIbSf3kcGhGQikuYj1ysQjOPhugkFmliGRGD/82LEpB3EBhAAaEYRABa5qUiFiroWd8Go0Qf3s/p92tEwnIkJBayHp+dJSI2Py9b5Lgk+0YURlnzcScHKF5BAkuW7y6NXqAVWiiyggIBcJ2Pd2Fd6WFgkA4ymLCykPCFwIrF6U0ZBacPPL64zpdYkuu6Il1JxUDqTn0jqvw2v8XUqc/sCpUyvt/pfFaaZ/Pcv/ClRof+YNiP1wef1//NixL0dvBYQAGhGFMnwv+xg6+2zpRfxsMKS4dY8+Nwr9OOWUOyqfIeaWNkcTIX5JllUUJF/3/VLYlNmLYHocGtwmhSFaoSTgogWYWHVJVfefYwgVkA6RAhFpLJ8xXxFxRblj/03Zqn5hKqxRNKtRS7QmyBlQZxAwUU/Dgx4qf/Iot/e032QsxT3In/Gg3simShp8ekn/dMKDT3SXP/zYMTWHDu2FEBZhglgBHdN//gUqoreT7/+X4v/905m/4IryEhbFDLhE+/+PFBpyIhFJPvJ6O0LB8PhBUGPkBm7emAuA6YLJgRsEIxGEqMWYtBvimIMesIXUBRJCiwkUbnXh1F4VZYE2uFybBNFAi1W5qB/AV88ejyDGbHGGzFvTzKlyCHacasPxLse4xyLD852NdqJTywzrU6rcP/zYsT0JOPWKADRkIhPv50gWDE6n2q2BQPYKuFfMg6JELVp2HIiYF//i6tmjU0uWZX0LgzotOGGjGRlaluKzognCqTrAqlqiIeMqtblFLaObqurEu2K5vUOsObOyKbCoV757v/f8rKz36n3V7r//4mYMv59f/5ywTP6U/+DsODTBhcrcVRsyoVk9v///8KyL13GkdQGPV1BrfYGdzr/82LE8D78Fji09l4k13SWPSRkcIjnLGxMLfa8qnWxuQdT7msg4XD0bhZUNlYzUS8v0kyIwwyYWa7Msv7tlEfhpYRSx+8JUiY0Ceic++7/00/qMXb+3DafhF8mlwPLoS3IwIMDAxIxbjjzCyJuESwoheMHKrzgrlkdxwMQAxOHQvoIjqmV5LqI0aBBC5wz//3sP/49HIEBQAQCCxIo//NixIQ55AZwytsTZQgCAHgmjC4kXaTmjU7k4Tuk4e098FEDH1TF0c8l////DMPNyijKMituCkQ2iZuTCjFo6Lj6BiwuAMN7SmGEYAw8YMMUTtvUdOfnqBGjbRo/yh6kDpRnsMpRjsTwoxYJitHMSRrepdTmFqPjtDdxzQR6I4mU1sGJIQUnHimXbnjrlEKBzs1qyvg1nfx+9fRPuP/zYMQsJ9NinADLyr3N0SkRqXc6sXI9QmItc79rVasi1ZWaLeL73Y5VM2oo6LIRt/CgCphUPpRjyKjH9PkaIONDVCA0XF0EbiiiaChGRmb/VKNO///5lqvaMMLs410U6nEFcYRVIwxTKdiodlECiTZG9LPnAABn8LvLpI7pMM8J6kBAgGMLFUce09yCQeoTTUSaqWpoRpIK0IEXCv/zYsQbJxPOqtrLBN0akd7PKmlRy/ymErbNrWUvrfaPmZz5zMs9Ddack0HTAQxFASRWkI3JJowbP/O7Wea916zPs2+hyibra14ek5jux/5mdxyiBChiQ0HWOO6FnJR/6vIIuzkb0Azv9lV6mbPIQ6nPMc4siuYkxPqrOWpLf8lVdzkcIiVSQRnUZwQW6uPqgbkklrjk//muBYCSwwn/82LEDiEEFupcQJM6QCmOayQvEN2qaTMW0Okesqsj+zHVd1PX0dK9tVMpDmT9fefr+QvDF2fm7fXk//nN7LcZ2qkznZvesmtWV/l65skedNkGqLvQM9RzDebbEIajfnh6Y/tbFwohfBRz7nOdrx/1iG+k9v0mj1u4Qy+ko7F2/CEIo1WGdtbrLK5G/l2ldos0THVy7MzGX9BjAkWI//NixBomRBbW/MGQdpJBSF2yOypg9wu0EEqAnNi63grmnGSzrRR4dB1Gv2UffCcX26xNjhYe/y9/BUNPfHp/f8tet////t9eyX/wsxDOvd+kXGsrr8dVMdaWtX37c99f0o6S8RIqXHe01q0WsLmQ3NJAsJChDDqxcRxZYSipDo8qzQmD0PAFx4j4CY9SaIW2XSSOQJyk66zQWPh2I//zYMQRHyP60vxhhL+CBPEaJLUOW7QdJ58Z714QRxCashj8Yge6TPc8pRtmZXu/22Mvfk/YLPQMNQEV9AhLOjWc7l3/LIhS5z0VtEXZuyEzNt2lV1z/krv7UTUv3ZtCdyXoY7Gd/QvR0cnpgztHY4QKcfzblBhxIKp0eHfa7Wy2Ig8fZIjBkDJDDqTXkQCBDlIXGHCrApBBL9Q40//zYsQjH0Fa5v7SRLof6ahhBapZBFuc5zmkqjKRyC2wXRoCYQBRXEKKKRp2NSMwxiXuU4+ZWIuZlCCjRQidBsRFgKdUeKhJICacDwdErxCIiz4iX9eWo/Wdct3yP/63dAah0NN+sqoQa8PRtgmPgP1TfLwKITIQrMIBEtyZHFRxbZHi6ubiMZioSmLgmhlSry4yKQtNmjqBHuWyJ+L/82LENh959q784wSY3XEP85lMEAkpDcrxu/O3t3IhXVEIt9DA7hxRXfZ1OZ2/X/+2letUggcBklO2yUj+0Knen7mHjoa3yaZ+8rhqSsc8cLo+o8s3QgSnRR2cB+8qEZSC9MHgxNNlgGsn1HbsNgCcuiyOUeBOghfWl82q79yJFmLRNNGJOX3otGUpbvuo9tSAnqJU1UCjHEov+//R//NgxEgeO2aqPMGEnApK0fdDhUYMc5X/onskn6c6Vd0/q+60Ic+lp0mtMn99XICatRDq3ISVNRI5O+2LoDCEmq21OuuQAporJ4OAYJlj6MMUmrWjrPUnVQeyK03X/JsnAlR0csdH8uvR5PHqv/LrOfswl4bdO+mHYaECwo6hlMARw4dAbUFi0cHHCaPZc856bwkouchSAhFOvSfc//NixF4eBBa+XmhG/JJlxBk66FgBE9mRHQfLYjnb5kcShxYJDoMDlDWol5h99rEQbkjQoSRyNdQRidEdYFawkIMWJa1MIKHEKK0IoTNPzpyo2ZkmLCKZUj8ldtoWp+9y73JKe5HCRdf6Z0brLrZ2VtZS9KrUh0R2Vn+SQWKYjt9FQxbOiig8CiQw44WLNLe7JUjFdvL1R0MIqZCCjv/zYsR2H8OKyx5Iyt2m2rfC/8lyR4qAVKNkVmdqli8yOTIEvBkGwDw4KZglLqZauq913ELMdJiYiYVlarZWr4mkGh0FA/Dw8Ucfc8N/MspwoekyktdVtF//URzFraXfPFsrXV/Whw40SvIorNBI0HfCQSPBJG1YJFhKCXLIKlVuBksBaWniPhpwLBk6SEQ62sHQ0PO1lHlYksYBAmT/82LEhx+Z+pmzTEAA43oxDCCK4H0j288SrLyFyNoX4VyIfecicY17HI0tSm5new8HMljuVJVelXd9lDuRlp7900uoGTN11vGUzdBOCUI0nQ41fJkLu0ecrjecojmtKwKBt9UZ+sdm9LIf+gdm5aj2NTUooqaxqvDk3C4g/j8SuB6lN29apq2eWer91/a2F/diMVPs9/laIv+yfCG3//NgxJg4w4ZkVY/AAH4xhvVivbpbv/MzUq/VaVWqWv/df///9/vcdc7/Zyx/4fez5nrve7iLux6ljkamPm5q/Lcrstu0upTS1tX7X1cATDTSLZRzm9qyaKCwKBQKVSsMNYTXA2JLbpde6ZBAHUfJ1IBhpoTEmSw8xB84UAPQGEHqiyCbSGRLiYddIV8mjVRNGKInYXCM4NkyOqNk//NixEQvGt7KV5iIAkqGR8nh/F6H6Cvoy8SxE3OsYF8bo4B3juFtJIc48keQL5g5w1NEjZNRAzhqbGKyobkSOqSRUZIukgpKuicYXKQYhwzYrQuETIg0zoGjKY4ku/ZSK3UcSPL1UzZtSKKFSPn0vepa1eaFHoB5os7/8U+ku0+h21lSgkoAMCQXF+pU7QksarDNh6gAhyq1O7LBIv/zYsQXJJoqrYfYeACxShXMNMnJbWUXbTPmSqea9Udn+zQ46wx6rnS9qN6pCm8MxSOMziXV5NmzkhkNqUynYHnmOZoysxEoyQIjXN5MyMm/R9SmoetZ9afEaE8bJnz/eYb2TWKxXO/xnN4WoMfyYy4Li5sqEBZP8xiZC3P/EBcLiL9Wz7U9VSk1QhDJkIWq1jUmSHLLcYlFg48C8+7/82LEFCOjmrZGwsUYOzWn3aboxn95p2vJrlhb6UM/ai4UkMzcAOf9UsjoiFlbAS7jaA3dNTGg/HI0nLPEUjduFNXppTM8ltVxN8TX7q4gxvpJWPTUZVKiI4gOQVZXZDqleWRaVt//9SzG/Vv/2mEECCRxCjqMxRcr//zkgB7qEkiH1icPqOGFAQFEX2Gr0bBlyYVFLn1AUX7tV3bU//NgxBUimk6qBMPK2Nnqd2anhI1nkM9xmbirsgZaWouBuJe7x4hDE8eOEOAxuy6NurtQusLdqGizWu/hRvSK0zaqxsbrfXLyNrMeTdhh230iOhAjooGmIYe0oiKeXQKHRpUPr3K0WnFDPZd///TCAKguKhNpL+okK9MXDaRJMPEQVQqRfz+7mfWeGVknPII8kaPLuBNlMRW1jZ6f//NixBkfS96oNssEfCdTVkcVOyvEWYri5SjddUtWs09NdWnts5NHW9HmhbEOJoBARyoBBVGupWlVql/6GuV3kAgJS0Mrf7FKU0zlb91WkqsZS///9HITIRv9G97Mhfb//6LkVNHRYYvFKYyCoTBMZRTVgApxz67/mWNH+3BGD+F9kCctgyQsklkcn7uNKIEJ5jBgEnyZhsk6uLzLIP/zYsQrH1MSnF7JipD44qKnfPcmyoHBQXHkNMjOf/YlFuplJEbvajdPUeJqfR/jRdjunb7oT/1D7bDtAkPcSDyl+pzssaLMIDRZVvUCfPoFb98ugBvCICLrLhFonG2jFSfq24yCVJzQ1DGBgQY4XJ4DZAnq3tV22lT1Gx6uvuE5Z5sJzXqOI91tcuumBraaOr8ZVZOOz1Kz80tu9ef/82LEPR+7IpgK0wq8fq7CuWyYKR3rSnzQupf5/r6KYouYEbVGGmr6FMOFxVhhz/yK8p//+RzOp3aTxN8g53ECWO+cXt1gg3d9foONQCHUAJHhNRRpP9uBsiimbxxM1OdSq78abmzMSdT0ZiDbZ2nuAlxjWMKPqz/t2O/nnls3CQ2/8z8z4UIuf///w1IL4VfYUZfzX4Wxn+XDYIQI//NgxE4fe3q1nnmGjQD4SE5uIzRE3M0QnAzRInTtc6BxMq9rvm5+fu7wAKuiBEtgIjjzB/jP8PiGCHdwIaZbvd9sALZdDE7SIRuYFNH7yd9OfK//qF79/+ev/6//9/f//+350jpmU6//gguLEUbcaubabWXDPc/fQEhAwu3NSV//8gPHEMssVrQTFZRlGWZsuikSTjU8+lSMiJCc//NixF8drBcGXggTigsED6CbAwZEAYPRldNIUyxKZayZyOChArNrv9/daEH9WDGpEINk9M384V8l76FkilfmVWWJ57+piaP1c77/zpQlP/////+1LPt7/7yMio2+zaGLIxCSGciiQrCN+p37yUv405NrFkTUcuVvpuoQXdUCUmJywIBMSiEgFauNI1Fs25IC2tomyBDkOU2O37fWyf/zYsR4HMQW0lwYk3grkDyLmOnFhxE3PMHOpDACcBYgLxtQUGaCvYYxxFtP9VHztS0Y9qpMHJ1UOTrLTCDQIwxKYyO7V+dXd3dz061omve/+iiR4omRuZxS9//XmKvexVEptQRbKnWlUfnXMs9bv1zKk6J4O+pcFRFLDA6STuDrOuqXWZf6Wt1KEsowzM4eD7mYMtBtQNYvEb/Hph7/82LElR5R4uZceYUWbi5DuwQHEjtNYgj48LRG4N7P9ijOnBQy/ubggQB8PDAZE546BwQE4fKJyjtz//8F/1Ed0ee8uUAKKl2N//76dX/V3U7MEI6iDvchSAioiAt/////xd23//54S/2NpIAEgWuartwGXSjrdxGCL7aQ21/jcF1SKuHaLSpfZEBd+g3itc2+5kevhOfZGePVdPzF//NgxKseAf7O/MJE9N1+va78+Z5BEoqFDREw4WFjfo/6tvrqZnmFVYj3Z5UqxjnYrN6Zl//Uv/ylbTlyqzerIViscQFmKiTdP//3WnT/qjpK2oqIpDUABQAoAMrONaImGu8s9FCcWcpEnnm3YVqcaXuarFnUY1T+D92UMnW0FKLxOH128AM3eJS7PUdjd8xDi7myuj2Yi6hYk5on//NixMIe++66JsMKtG2/O17anUHTHlHVjVrR0ag1WOnGOOnFTHcj/3WregaNWZEQFLEY4ZKL/r5Amv9KEd6liioyuzcDh5VrNMHCAULOKNHaXy+6xx/xMHS745GtrhTe5dQHdK3/YaTii8nTO0zL9MNtvX+z6b9M6H6OPxABmeQ7kLp2xFs2X2zO5jZUoaxgGo4cRDxE4m3/////lv/zYsTWHeIGqjbLDtBtKvYTCjCApt/Kn0P//+lFSraHRfKUrkIIozKQpZ2YXlOKqkxBTUUzLjEwMKqqqqqqDVJSlIlltRwxsx0rRdI5ZKxS304X1pWMh6ephBoyerH3RyfXXHGKtZ2uuteHJh61K3VnrbXLZMyz1mUr1vZ5q5W7GMrGqVsxleb/mNv8pZlcoqg8aKmMJCzTLb////7/82DE7iAMFqSuwwqefp9SiqFDowCoNFRIeXIfholy/klJ9YSBY+wFnhoKuJUSuVXkASad0g9pMYMzEqczxfNeCx0JM0QQ5ECoOXuL5MFsRFzEm2sOLD0AN1dKWjgAwDhJC4Aglg6FotYbIMgEi0Hw8RPcwuQUkNRqFSCDccJD4tRC5n0JSguknNX0OctnnavV/p+6OdHkOMNPat3/82LE7h+q7pj20wqeSJscLnf///n1HMwuRQ89xw/H2/6tqn//9WPdf5qHHKz/80wUhKMLP9YCAgAIEcdPJAOkC4gjQD6g0g4ERYhoRyjx4wjy4LO37gR260fbSLPrPMOLqIiTkxD1WktAih4Y7sr5GHZxlWcQFgIzhg3tlWVNVkG6Grdwa/LkM064lc1j361uV5437tugXu1hSxDB//NixP8l+9ZUCVs4Ak7c9Wz9ZY3M8L/51+UtXO19h3IcMoS0a93bWHa+hRWv67+O6t+k/7HLVJhhe7rWWHcZZZoonF6aAHch+jnIbZP/75nN1JBR7+vd3S6/PtTs92mi9vDHtv7uVA5HL2pRRyiYvWKknlE3f///L//XO/8zzmv5l3DP92+bt9t9wzob2t3q3p0WIw0+OOIvevGHYf/zYsT3QNQWONGZwADAik8wB3HXi8jsXH4qaUKhRAiCAgKQgGGEKAtXY81vgCJa1pe7IndfqhWQXwZklFMM6AxhfljZDuAhErMt2XcBfOMJCaKMV7bIeohaDYDdSowiUrbvMEegyBwE1PsvKts+XUkRXyTlwRuDfMtzQ9ctpumkdUiliQFY7mzpJEsS0zmOBZbz9ZZt4hVfMOJd//3/82DEgzpjno5dmHgB4ezLZ4jYoDj3lka1G9V8+r49t4taF8w9/5cHmWND1tkeOdoTI5KzU2n+v1HGcItNf6rChW1/WsDxX99ZxSnvvetasrKPNOaovdTv8zsDg56u8zHgva2tvfbYUb3GZdN3+d5kY8A+ejz15uBIFTGo/fRN0g1kkcY7FlzapDSZE+cguQXM1AfGwnAxAu09OVL/82LEKCM6ipijz0gC5cabd5bJ+PSnFerpiclo62gNDJpmr2CBvz3J3Ot/he+ownOc6lkMnNk0zOMPc/4PyKktjiNdtImTOoVIKMZTLDeyJFU5ORzTlCSTy3fFR5p4ZrrMuf4v3okxq2IWRUyskYaLmx1lvgCuUkrXgZ+danS3XwmoYzMjAoZdj2gOmVXE0mgm+/L2UaHEcQsqXFRs//NixCskmnad5svMXKnWGE8VlWHDI4QIq4dxkEym6vOO1UjSB2qZIjJZgd0+zIMd9blRbN+09vGf/lYlOEe2nq//857G89CPovnIWREAwc8mLUTWnCJqk1z9LKus5V1/5bwF0xDFVB8LtA8qk+urIhkcE6mqAjaQEJf1VHL5NkuUwvAMm6bryMWHnadDwiBpLihiUEpaSm+kHlQIgv/zYsQoIpJepe7JTVSMVphyHAaEhFmOsUpZW6b3Y1aazcp6QMQqoqqTWinHxox6HdUcUHKRzi0e22hdfIhTHdBN6CtyO//o2osRFEkFjAofBbRJ8uDHCYZDAkO0f///ypAvKLIXA4TWMMiygPMuhSrNaOm4224Lq8cyKlZf/VZIU9bUxQChWNhhD2Z6eJ5dV2EvdjiIzW0iHYrCACb/82DELR6SXt4+wkTulUAvuDXrnGnaI4wu2fZ9eG4fU5XKACjoEM0Xx214XQE5CBXwY1AT/8/wsOWwUUGMMMCgmEjKHUkQ7////4halBJiEiIDiKSLH5nWwRIqleHSpVklhYR+GlzgRsRnchOALT6ch4qFfFE/WYMgVDlFeD0K6BEEVZayEur+nmH5Y7g91cPJXNro6+Crxi3zFc3/82LEQR8KPrV2m9BaLUCNGIVwr/zXodeNZM8RZYo7xl+9f1+lax/xrvm9QFgqI1qgV3/5R3/+MAA2XHvMEDuDSlsBUT1jnOTVQIhAAdt/8iSMmfo7wyghZfnkXlqXJeWAXdtbL+r3nn4QDJmPbF1jL0kj9KHQvCrKb+F2lnYPqgGLEgxmY55fqfG+qXb+yHB5aJPpXjJhXKqhk1////NixFQe2k6hXsjNOKX0uNfS/67F88zRRPTDQKnNX/1P9H7uVtJLEURPKimaSKqMlgRWaSoIApQJ9mV3EkyiVNSscA0eLSNApfutxFT0aoHebtIo65LRZDWjLP4pTP89W8flFjfh6SBFYUBNqi+X7/IX5+HOoCJlpVV7E+ZlujaJSz+i0PI/I/STzBpGuWdMhbDSBAu7W8QfrDX/8P/zYsRoH2oeoPbAzTT5mIOx58JGjw9hAEECQLanORWYLPDlBeQAKn/6Jbutu6h0RLuy9bBY/lqQOO2G1qjejv37NWsC9v3NhmjE9L8wqMyg00QqV5UX7ezuENzpJQiTbDeT4eMFlpId7UKWWw7++Ha//+f7hH+A4REn9f4b3OqxgKAwZZL9IVMmf/kNAIYRZV0dmkkXBJB+aGHEhiT/82DEeh9aFqRWw9B8CRC1ymSHrIxwINb3uuSxt4aFDL+u5IyMmtba06tLNsmgXcA4zVkcYtliOd+Z2C042t/b1gXOrlyhlITzkHiS0eHC44HRLqdUs6Fe4wws/pn1eXQ7f/57s7Mcx2/8x0MUQoXCIQkqqyy//hkIThYeMBge5J/j+rs6FdLEGCg9MhVAEYRElUAoNy/SvBQlPqX/82LEix7aHrZWwwTYAClRg2BbwbCjYYeMN6Nm2pFVvKTHU8bz/cfp8AROrMYzH/zZos44COgIPbBanLR2sD5tz/5mISrMr5++///tlPKiVFFwyH1EACIUA0DYBDt9iX//V8REUFz6oVPbTrR3oyriRYOyThwNMeqAB0ihkmHJrlmaFEJNR1Qc0DZpLmeKxRu3SPdnqrZ+pLufvhYK//NixJ8eWdq3FnjNCIgFxqnsqjr5zOOnf92ONKHIVGxx5QHxI8aiSNlHiRx7f6UN+3/1NnHDzsc04479TVNNnGt7Tr/+7VMPY9DXMU8zf/of/6lQgEhGCv8jXn1m4OBes1W89GkahfLBMEcpnmAqBwYcMggCnjWFkwkeCIYwcDTlBwapQ6aoZdSxE20NLiSsuZxyTtcFtVqMb2MuxP/zYMS1H2MWpm9YOADonWJYT05GSV5FfPpdwihKVbiQG1DVDI3QYNS9FMIoJAEWYuXqEvG7vbVkbsxcawxQ4M+L5bt1pT7pNHtq38G29sedzwcHwzQI0qijyTZ+JaTqdd47+uc68u9QmWL2fa7ULjBlTqujyR1NuLD0tt+zLMTS0XxGaThcDgck4hBynMxRl0cSqjKYnV2VTH6yp//zYsTGOwwWWCmbeABf6j41/+xQ4v720f490LmhHHr//5r/jNs4T7neZhg//////MT581WZzK6yuWTS57O12mQOgoxMhXw5G1BgqUguCVqBUo6AEjJeX8CSgUwh7S4KE/jtm1YORxjkhJoqb71zoJQ9Jem2TaYgav9KpUCZj1j/c2481hdM8a6vWmRCKk/JOcA5EaHQf8sBklUsKub/82LEaTpL/spfj3kD8CJfdKKjR1qZGP37OrHskRHR46gUb2HHc3mcw53O7O86RS52OmRQPXJXmnAHGh+bbgRMTXiVc5XPx8fdszVvH+9V86r3pWPIjA44hV3fO6M+713qmu56pPrd9en/1//////1pXq+etD8e2nzHZ3+zrcmRgmx/2e2oE3xr7zHY3OqxStblrXSEJosgm1UMUkG//NixA8hGua+UckwAGTckSWKqqq7XpXqkm2SP8LZmpqR/+99hoKLT0CQyCCP8end/D4NcyWIIa9VjUc7HvNf+Z7qR/Y2TAEC06SXmeU8uXOfKN/9zMmtmecrf/szhlRyR6OV//ta6OFAyuSLkNKDU6K6gaNybUAy6IiSj2LazpX1A1W5REpgH1p4zHqQ0xVCC6OqDtfFhKG2khYwIP/zYMQaJAqiqiTbDFADQ+EgggmJY8DWH7J5wAQUTt7Qh/pSvmnn1GfUHPs844eLMHiDoaZBASwR1iFusVLy1Ls3/01eu///7TkXRBl74eO1oZgOiKwxFhpaNOx5HE/5yscr/9t7M1nFkWOX4XMiEFhHU/Bqg8mdu/VDbl+SWdBoivMVqknDWdpBAd3/dYkkLGnrjaBFoZvI6OLykf/zYsQYJQJCvlbBhWSIK1rha2gPIgRZgbbvlL37U1QlSSKqneiLQ2zeFOZDlh/o5DkTgCliD2TVl3IzGrO41Q0yZxcLsxrZHk/RgYHjhpa64+7jmKqvXtRmozIdmu30BzhgjEChGZSc3BVtJA4BBhQsiCrp0qxdn4lDRWinzU201JXTsJBoVL+V1ZOIOt6sjAK0S53gMTTmEMVkU5z/82LEFB+i2sVuekqaVspgzFCCZmmDrJsDyJFJVEiUSlBN9LKrIVzSrJhshv1KilN0xdlmApxoqU5T09TWbc1qen1qzMpzep2d0cc48RItCLeXYN56upHQXIMMbUykI1HWRixJv6v9RUoi0QCp4ecB+Tg8I5R5+QqgAovkjGZFNRlILrXB2xNKAK7kMbstlFTJLELE004dU408O4IC//NixCUe0vbCPnpGVDjXBDmCFBgI7zs6uzMdKqsHUjjf/605+ZE3//8//Zvh/xqreCHUayl5rwvy7L+7JqeHOF/+cT68FoHHREBiygnQfZdfWrUA3uW/EYIvLqPmHrNlgYWHKkjICYuh49lCb/2RTf///3p/////////32//J/T+iT6eg6s4dGBEI4GHHX/zqvkJqSWXMSlFdlFSA//zYMQ5G7wWtABQkzzeU2G2ElyNthcnUkTC04FGE99kZ8qFBgAEYQTUX3KwgJxW385AqKxIFw3NI6TyYwnhpGkVNEdXmpj77TYAOpYCKSJRamEZpNm14m9JjaZe6l+e+uPia6Ncn600S96u97Pp//////9eiaf/Tv6aVIqzJbVFadERxaxhBkf/PPWc+bXWu4/HVbBBZyU61ScdA//zYsRZHbQWxvpAmVwc2/67bQimvMq85etQx4OUBo2Oyu/Y/aVP1gRwJYlmeZj/7bbSIgbqgC2WZWxEgSx6El1G+HScSoGSIg1nMwdiVwSnvPn/9kiKwkFMSRp/mcrlQ1Q6OlEn0D1aCQsHYRHOv2dkfM+Uy3prYxjGETuHAaIAs0V0L2xxq3yTwace+SK/1BU0egrASrGGCwCCg9j/82LEch2x8t7+YYqaLEwK6ElOyi2622TUOzYUzuSzU653THf+1352ZgGH3Uo0apRWUq8YHhEQFoeGCSOjmc0xjGdjCRVoZ1QxWEjGN/+pUM5SiLIZylYz0N2q2jlKVkuxnR//6ltmQ1voY0xnmZ9DGN9S1b+VqGNK0suUs3qxlZNjKHSGlqKodnERoqSSgqq2Sq6XO52zd7rZigUC//NixIsfS/qiXUsoA4MFALkdKGHvf3LGrAbl6LhlEjT/zoaqDJYWZ3JPV8g0DvdmgQ0NPP/3BZ35wN6QPL7zTSHDgOAnbOcjWcqDVm77//Q4kj8EGcjGc608YLM7xjtXe8Y+Nu2BGDnFjAcENQtnO5AFvol1GyGQwf/////+G5w0wcDCLeS8EAr4CGGh96teIwaiVfur////////rP/zYMSdOewWsl+PeAIQc48cv5lmI/oxEoLAWNjj7UGt6pSdOMlnk1Idv/////////+fAuDQqVW8LhEVkWPpuQiGys/fn+cbnE0/lZ60zdsiME14jAyYgz28pVlGWHssjIukmYu41KcOqRjL1sDCxiRAYoCQ1IHjXe880/K04vnhScl9uxhmMXCVRCGKFM5t6Aw7SjnQINXkL3frvP/zYsREHzpuzx3bGAAgYARBgKhRkXh/mxSd/ZSL/VTa3+sTftP///5P/p/s32BgKWeQv1SPJFn/6g0t36YlTBp8NFTElDpgBRO+2oVd8ztgOKEzJkOJm0fhbUrY/B8zN7KhTEiAyFkmjwGQgCIm5gQhYkAtQuetFip17KyxOu+jaR4BXk7hHc1yZEYEcliKwxwlhzhaUPz/ujap6On/82LEVx8J/rpWekTUZUt3MtXYOpbgRWdeLXLtv/qR/9UusRKx9Wp7HcWeSeI54SEydFWRAVESgJMvxyj5OoB7roFGXmJKL+EqzyQh9Ifr7aQ+lCSLAhJL77X3tv22pecz8/DkHng+fcmdlSHmqopmWUdVc4x33Yd5nbMxBjoQNbeppjWGvMYsY7dDSsVrR4EiToEITAahdv/6dc13//NgxGodqlq21nmK1HEjnTJhQke1oDUZvGpC1Dg5J/XpFSLewtGr+iQIqilcsR9out0darBTg0nYKntbDY4NvQ2X88irmV+l2zXs5ZYQd0zaNVrD5YgVQg4884KgF39TQrVWgPJ0YoiDHMIAzJ+7SOZVKrdL93b1FGY7H1Z/8yqxzUZRBZ3///////8v/RkZnJilmFOjZcOqgYXc//NixIIfk/KhhsmE9d8nJenobA8Jdoyph4KdSlisVzY/f90tYyRV2Shi6zEDMPRIA4KjKv8u91QxnxfLr5q63NBJLC5AgmmBS1Qdycpmv/y5nZ8znbgSoFuJARnWX8xiq6rK3disv95WSFK+KN/VHCgAtVDHR0BqJ///6e+8VEouJ0MjBGIhVNUA8EsMV8WeLDhtGuNxDfrg5g+5UP/zYsSTH4rWmYbKxNgKsEoeEuZRx18W85dW/TPDhSpecbWCH7wmw0ZP75M+er78vhOCXf2Ff5H6mdSqwkYzCQBAEAwGFv/sLSiIocv6s4kWpWMviJXKouOdXM+vVvzTVbNy/6yoYdFqH///6P6iLFgqsk48SQCkAFwfS0txN0z48fJBsR1YGGZYvkSHIorQ+3GpAU1hhDgewC9I3tz/82LEpB7ytomW0wrQXjthMp6GaXvEqm+b3xAS2YrMPZQd0/XUmpKu0PBw5Q+5XoHevy//UqtmNfS6kIUOiiN//////Whkb////////1/Zt21o8yLJJQxRqUoMDQz46I4JGBSKKjQzaJk18BdBDgZICstlbIItWSdZbbuIywdQpGsZi0Fv7zJ94nRp2wFObeWK05CaUOoWEwyT4ya3//NgxLgdLAKBftvKeOTnH6HGqXGRiqCDibnUxZFT///nRlfa6OUMCcOpVf/////+r2//////////vKXu7tRHayICqAsCUyp1ATC4FNWzoxoHDCQiMQr4HXpPsZBgFBa4a7KbubKVq2KBMJdUUYk8TzPaJIFUsNhPBgDYBg2EETCKLoQC0eYgrBdOMSEmPU52f3uRERdj0coTHHmE//NixNIee/pwtNpFJOWMflzXVvt/vmMTKQJMkS0Y445x87kLHHf/////1I0Pv+/////////v2ZJrPQ5J7zCB+nSKAgFVaGMNEY+cuwuvDFwlMCn4y6BjDJMC4MFiyWpMAgtERMZr75Q4pY+igtDGgHxDGjrDniEYN4ykGqBAM8NIUIGRBJDEUiOUOQLMLhLKGaDUxQI0x2EGGkOQav/zYsToIxv+YBVcUAHjTJkipuUSRMiPIuI/WfIeRhImxkOIghLC5kTM3GXC5oLHAG8L1hhcURNqqBRKRYN0z6KzYwRK5SMxQSBABtB6YpcPgKZ9JNd/1psgcdrtQQIgVCLk+bk4YGhPl8zrrbWYGyrP61ovmF6k/Y+ypTLZcMEDdv6q2ruuug7LU3f2ZXeuu/W6y4x4g5FyfFkDmET/82LE6zz0FlDRnIAABmxlyDkQHMJaAgEgBhVFHCS0kskFl0x6GhCBFMYj/gIQiorlrs/4fMBihoGRHGAuYf+HpDWFA1E1xSwj0LxDLxMnjMy8LCgBQQEA4GMDgoNdAY0aIhN8CCYDmvANiICRkDdPQLDRBwm4YoZFICLULnHO+tYvACQgj06Foos8XYdQjDcumR0sEBIKYGP/ICK1//NgxIc4G8I0w5ygAHJkgJDhSQCQAXxDbQtdDkgtGNfUkXkVtb/+FowYlGVGCYsI6I8cIuUvfJpU4iXUTE1RX///9AsEuQ46WiaLBNksI5HMFfFzByIlw6g94Mu0EqLX0VIsup5i1SwBgNBp6qFDlxQoY5UpZKUvH+Rft6rqq////sxRv+MXs3VEmqqWzN7Mx1QE6qlxm2Zv//////NixDUcxBV4AckYAP//Pjf8bh/8bh6rsxMx1SZiZtV2AijM3VXVVL/////VVgEBKwEBNqFATVVLjNsx67MUZj6q9VV4zFGZjoUBTEFNRTMuMTAwVVVVVVVVVVVVVVVVVVVVVVVVVVVVVVVVVVVVVVVVVVVVVVVVVVVVVVVVVVVVVVVVVVVVVVVVVVVVVVVVVVVVVVVVVVVVVVVVVQ==\" type=\"audio/mpeg\" />\n",
       "                    Your browser does not support the audio element.\n",
       "                </audio>\n",
       "              "
      ],
      "text/plain": [
       "<IPython.lib.display.Audio object>"
      ]
     },
     "execution_count": 88,
     "metadata": {},
     "output_type": "execute_result"
    }
   ],
   "source": [
    "# play audio\n",
    "IPython.display.Audio(\"myaudio.mp3\")"
   ]
  },
  {
   "cell_type": "code",
   "execution_count": null,
   "metadata": {},
   "outputs": [],
   "source": []
  },
  {
   "cell_type": "code",
   "execution_count": null,
   "metadata": {},
   "outputs": [],
   "source": []
  },
  {
   "cell_type": "code",
   "execution_count": null,
   "metadata": {},
   "outputs": [],
   "source": []
  }
 ],
 "metadata": {
  "kernelspec": {
   "display_name": "Python 3",
   "language": "python",
   "name": "python3"
  },
  "language_info": {
   "codemirror_mode": {
    "name": "ipython",
    "version": 3
   },
   "file_extension": ".py",
   "mimetype": "text/x-python",
   "name": "python",
   "nbconvert_exporter": "python",
   "pygments_lexer": "ipython3",
   "version": "3.7.2"
  }
 },
 "nbformat": 4,
 "nbformat_minor": 4
}
